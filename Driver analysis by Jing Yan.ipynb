{
 "cells": [
  {
   "cell_type": "markdown",
   "metadata": {},
   "source": [
    "The data used in this analysis('data.csv') was provided by Allstate. It contains information from the event data recorder in a car driven by two drivers, Alan and Barbara. I will use pandas dataframe and matplotlib in the analysis and plotting.\n"
   ]
  },
  {
   "cell_type": "code",
   "execution_count": 1,
   "metadata": {
    "collapsed": true
   },
   "outputs": [],
   "source": [
    "import pandas as pd\n",
    "import numpy as np\n",
    "import matplotlib.pyplot as plt\n",
    "%matplotlib inline"
   ]
  },
  {
   "cell_type": "code",
   "execution_count": 2,
   "metadata": {
    "collapsed": true
   },
   "outputs": [],
   "source": [
    "#open the csv file as a panads data frame\n",
    "data = pd.read_csv('data.csv')"
   ]
  },
  {
   "cell_type": "code",
   "execution_count": 3,
   "metadata": {
    "collapsed": false
   },
   "outputs": [
    {
     "data": {
      "text/html": [
       "<div style=\"max-height:1000px;max-width:1500px;overflow:auto;\">\n",
       "<table border=\"1\" class=\"dataframe\">\n",
       "  <thead>\n",
       "    <tr style=\"text-align: right;\">\n",
       "      <th></th>\n",
       "      <th>trip_id</th>\n",
       "      <th>driver</th>\n",
       "      <th>lon</th>\n",
       "      <th>lat</th>\n",
       "      <th>date</th>\n",
       "      <th>speed</th>\n",
       "      <th>direction</th>\n",
       "      <th>odometer</th>\n",
       "      <th>event</th>\n",
       "    </tr>\n",
       "  </thead>\n",
       "  <tbody>\n",
       "    <tr>\n",
       "      <th>0</th>\n",
       "      <td> 1</td>\n",
       "      <td> Alan</td>\n",
       "      <td>-122.128910</td>\n",
       "      <td> 37.44529</td>\n",
       "      <td> 2009-04-05 13:39:54</td>\n",
       "      <td> 11.250</td>\n",
       "      <td> 185</td>\n",
       "      <td> 743984</td>\n",
       "      <td> N</td>\n",
       "    </tr>\n",
       "    <tr>\n",
       "      <th>1</th>\n",
       "      <td> 1</td>\n",
       "      <td> Alan</td>\n",
       "      <td>-122.125960</td>\n",
       "      <td> 37.44332</td>\n",
       "      <td> 2009-04-05 13:40:24</td>\n",
       "      <td> 18.750</td>\n",
       "      <td> 117</td>\n",
       "      <td> 744344</td>\n",
       "      <td> Y</td>\n",
       "    </tr>\n",
       "    <tr>\n",
       "      <th>2</th>\n",
       "      <td> 1</td>\n",
       "      <td> Alan</td>\n",
       "      <td>-122.128170</td>\n",
       "      <td> 37.44071</td>\n",
       "      <td> 2009-04-05 13:40:54</td>\n",
       "      <td> 38.125</td>\n",
       "      <td> 218</td>\n",
       "      <td> 744713</td>\n",
       "      <td> N</td>\n",
       "    </tr>\n",
       "    <tr>\n",
       "      <th>3</th>\n",
       "      <td> 1</td>\n",
       "      <td> Alan</td>\n",
       "      <td>-122.131740</td>\n",
       "      <td> 37.43711</td>\n",
       "      <td> 2009-04-05 13:41:24</td>\n",
       "      <td> 36.250</td>\n",
       "      <td> 218</td>\n",
       "      <td> 745222</td>\n",
       "      <td> N</td>\n",
       "    </tr>\n",
       "    <tr>\n",
       "      <th>4</th>\n",
       "      <td> 1</td>\n",
       "      <td> Alan</td>\n",
       "      <td>-122.132805</td>\n",
       "      <td> 37.43598</td>\n",
       "      <td> 2009-04-05 13:41:54</td>\n",
       "      <td>  0.000</td>\n",
       "      <td> 218</td>\n",
       "      <td> 745380</td>\n",
       "      <td> N</td>\n",
       "    </tr>\n",
       "  </tbody>\n",
       "</table>\n",
       "</div>"
      ],
      "text/plain": [
       "   trip_id driver         lon       lat                 date   speed  \\\n",
       "0        1   Alan -122.128910  37.44529  2009-04-05 13:39:54  11.250   \n",
       "1        1   Alan -122.125960  37.44332  2009-04-05 13:40:24  18.750   \n",
       "2        1   Alan -122.128170  37.44071  2009-04-05 13:40:54  38.125   \n",
       "3        1   Alan -122.131740  37.43711  2009-04-05 13:41:24  36.250   \n",
       "4        1   Alan -122.132805  37.43598  2009-04-05 13:41:54   0.000   \n",
       "\n",
       "   direction  odometer event  \n",
       "0        185    743984     N  \n",
       "1        117    744344     Y  \n",
       "2        218    744713     N  \n",
       "3        218    745222     N  \n",
       "4        218    745380     N  "
      ]
     },
     "execution_count": 3,
     "metadata": {},
     "output_type": "execute_result"
    }
   ],
   "source": [
    "#check the header of the date\n",
    "data.head()"
   ]
  },
  {
   "cell_type": "code",
   "execution_count": 4,
   "metadata": {
    "collapsed": false
   },
   "outputs": [
    {
     "data": {
      "text/html": [
       "<div style=\"max-height:1000px;max-width:1500px;overflow:auto;\">\n",
       "<table border=\"1\" class=\"dataframe\">\n",
       "  <thead>\n",
       "    <tr style=\"text-align: right;\">\n",
       "      <th></th>\n",
       "      <th>trip_id</th>\n",
       "      <th>lon</th>\n",
       "      <th>lat</th>\n",
       "      <th>speed</th>\n",
       "      <th>direction</th>\n",
       "      <th>odometer</th>\n",
       "    </tr>\n",
       "  </thead>\n",
       "  <tbody>\n",
       "    <tr>\n",
       "      <th>count</th>\n",
       "      <td> 848.000000</td>\n",
       "      <td> 848.000000</td>\n",
       "      <td> 848.000000</td>\n",
       "      <td> 848.000000</td>\n",
       "      <td> 848.000000</td>\n",
       "      <td>     848.000000</td>\n",
       "    </tr>\n",
       "    <tr>\n",
       "      <th>mean</th>\n",
       "      <td>  17.811321</td>\n",
       "      <td>-122.143143</td>\n",
       "      <td>  37.474394</td>\n",
       "      <td>  29.318249</td>\n",
       "      <td> 182.304245</td>\n",
       "      <td>  945930.562500</td>\n",
       "    </tr>\n",
       "    <tr>\n",
       "      <th>std</th>\n",
       "      <td>   9.517635</td>\n",
       "      <td>   0.062288</td>\n",
       "      <td>   0.069050</td>\n",
       "      <td>  22.649319</td>\n",
       "      <td> 105.783441</td>\n",
       "      <td>  108332.921639</td>\n",
       "    </tr>\n",
       "    <tr>\n",
       "      <th>min</th>\n",
       "      <td>   1.000000</td>\n",
       "      <td>-122.396255</td>\n",
       "      <td>  37.375282</td>\n",
       "      <td>   0.000000</td>\n",
       "      <td>   0.000000</td>\n",
       "      <td>  743984.000000</td>\n",
       "    </tr>\n",
       "    <tr>\n",
       "      <th>25%</th>\n",
       "      <td>  11.000000</td>\n",
       "      <td>-122.160122</td>\n",
       "      <td>  37.430984</td>\n",
       "      <td>   7.500000</td>\n",
       "      <td>  92.000000</td>\n",
       "      <td>  853884.250000</td>\n",
       "    </tr>\n",
       "    <tr>\n",
       "      <th>50%</th>\n",
       "      <td>  18.000000</td>\n",
       "      <td>-122.128287</td>\n",
       "      <td>  37.448755</td>\n",
       "      <td>  28.125000</td>\n",
       "      <td> 179.000000</td>\n",
       "      <td>  939550.000000</td>\n",
       "    </tr>\n",
       "    <tr>\n",
       "      <th>75%</th>\n",
       "      <td>  26.000000</td>\n",
       "      <td>-122.106390</td>\n",
       "      <td>  37.487678</td>\n",
       "      <td>  48.906250</td>\n",
       "      <td> 288.000000</td>\n",
       "      <td> 1056702.250000</td>\n",
       "    </tr>\n",
       "    <tr>\n",
       "      <th>max</th>\n",
       "      <td>  34.000000</td>\n",
       "      <td>-122.038320</td>\n",
       "      <td>  37.667690</td>\n",
       "      <td>  75.000000</td>\n",
       "      <td> 360.000000</td>\n",
       "      <td> 1117071.000000</td>\n",
       "    </tr>\n",
       "  </tbody>\n",
       "</table>\n",
       "</div>"
      ],
      "text/plain": [
       "          trip_id         lon         lat       speed   direction  \\\n",
       "count  848.000000  848.000000  848.000000  848.000000  848.000000   \n",
       "mean    17.811321 -122.143143   37.474394   29.318249  182.304245   \n",
       "std      9.517635    0.062288    0.069050   22.649319  105.783441   \n",
       "min      1.000000 -122.396255   37.375282    0.000000    0.000000   \n",
       "25%     11.000000 -122.160122   37.430984    7.500000   92.000000   \n",
       "50%     18.000000 -122.128287   37.448755   28.125000  179.000000   \n",
       "75%     26.000000 -122.106390   37.487678   48.906250  288.000000   \n",
       "max     34.000000 -122.038320   37.667690   75.000000  360.000000   \n",
       "\n",
       "             odometer  \n",
       "count      848.000000  \n",
       "mean    945930.562500  \n",
       "std     108332.921639  \n",
       "min     743984.000000  \n",
       "25%     853884.250000  \n",
       "50%     939550.000000  \n",
       "75%    1056702.250000  \n",
       "max    1117071.000000  "
      ]
     },
     "execution_count": 4,
     "metadata": {},
     "output_type": "execute_result"
    }
   ],
   "source": [
    "#Use describe to see the summary of the data. \n",
    "data.describe()"
   ]
  },
  {
   "cell_type": "markdown",
   "metadata": {},
   "source": [
    "From the describe() method, we know there is 848 data points in this data set, which consists of 34 trips. The speed ranges from 0-75. Seems like there is no missing data. "
   ]
  },
  {
   "cell_type": "code",
   "execution_count": 5,
   "metadata": {
    "collapsed": true
   },
   "outputs": [],
   "source": [
    "#Divide the dataset into two, one if Allen, and the other is Barbara\n",
    "alan = data[data['driver']=='Alan']\n",
    "barbara =data[data['driver']=='Barbara']"
   ]
  },
  {
   "cell_type": "code",
   "execution_count": 6,
   "metadata": {
    "collapsed": false
   },
   "outputs": [
    {
     "data": {
      "image/png": "[encoded data removed]",
      "text/plain": [
       "<matplotlib.figure.Figure at 0x10965d210>"
      ]
     },
     "metadata": {},
     "output_type": "display_data"
    }
   ],
   "source": [
    "# let's plot all the speeds vs trip\n",
    "fig = plt.figure()\n",
    "rect1 = plt.bar(alan['trip_id'], alan['speed'], color = 'b', width = 0.5)\n",
    "rect2 = plt.bar(barbara['trip_id'], barbara['speed'], color = 'r', width = 0.5)\n",
    "plt.xlim(1,34)\n",
    "plt.ylim(0, 100)\n",
    "plt.xlabel('Trip')\n",
    "plt.ylabel('Speed(miles/hr)')\n",
    "plt.title('Bar plot of speed at each trip')\n",
    "plt.legend((rect1[0], rect2[0]), ('Alan', 'Barbara'))\n",
    "\n",
    "plt.show()"
   ]
  },
  {
   "cell_type": "markdown",
   "metadata": {},
   "source": [
    "There are 14 trips listed for Alan, and 20 trips listed for Barbara. From this chart, we also know most Barbara's trips were on highway."
   ]
  },
  {
   "cell_type": "markdown",
   "metadata": {},
   "source": [
    "## Question1: Who is the safer driver?\n"
   ]
  },
  {
   "cell_type": "markdown",
   "metadata": {},
   "source": [
    "In this dataset, each record also includes a field called “event”, which denotes whether the driver exceeded a pre-defined acceleration threshold at any point during that 30-second period. We assume that these events are correlated with risky driving behaviour. So first let plot these risky accelerations. This time I use a scatter plot."
   ]
  },
  {
   "cell_type": "code",
   "execution_count": 7,
   "metadata": {
    "collapsed": false
   },
   "outputs": [
    {
     "data": {
      "image/png": "[encoded data removed]",
      "text/plain": [
       "<matplotlib.figure.Figure at 0x109a60a50>"
      ]
     },
     "metadata": {},
     "output_type": "display_data"
    }
   ],
   "source": [
    "fig = plt.figure()\n",
    "rect1 = plt.plot(alan['trip_id'], alan['speed'], linestyle = '',\n",
    "         marker = '*',\n",
    "         markersize = 5,\n",
    "         markerfacecolor = 'Blue',\n",
    "         markeredgewidth = 0) #plot Alan's trip is in blue\n",
    "rect2 = plt.plot(barbara['trip_id'], barbara['speed'], linestyle = '',\n",
    "         marker = 'o',\n",
    "         markersize = 5,\n",
    "         markerfacecolor = 'Black',\n",
    "         markeredgewidth = 0)# Barbara's trip is in black\n",
    "rect3 = plt.plot(data[data['event']=='Y']['trip_id'], data[data['event']=='Y']['speed'], linestyle = '',\n",
    "         marker = 'd',\n",
    "         markersize = 5,\n",
    "         markerfacecolor = 'Red',\n",
    "         markeredgewidth = 1.5,\n",
    "         markeredgecolor = 'Red',)#The risky events are in red diamond shape\n",
    "plt.xlim(1,34)\n",
    "plt.ylim(0, 110)\n",
    "plt.xlabel('Trip')\n",
    "plt.ylabel('Speed')\n",
    "plt.title('Scatter plot of speed at each trip')\n",
    "plt.legend((rect1[0], rect2[0], rect3[0]), ('Alan', 'Barbara', 'Risky acc'))\n",
    "\n",
    "plt.show()"
   ]
  },
  {
   "cell_type": "markdown",
   "metadata": {},
   "source": [
    "## It is quite obvious Alan had more risky events in his trips. But how many did he have for each trip? Let's count them."
   ]
  },
  {
   "cell_type": "code",
   "execution_count": 11,
   "metadata": {
    "collapsed": true
   },
   "outputs": [],
   "source": [
    "#first, let's save the trip_id into a list\n",
    "def count_trip(trip_id):\n",
    "    tripIdlist = []\n",
    "    for item in trip_id:\n",
    "        if item not in tripIdlist:\n",
    "            tripIdlist.append(item)\n",
    "    return tripIdlist"
   ]
  },
  {
   "cell_type": "code",
   "execution_count": 12,
   "metadata": {
    "collapsed": true
   },
   "outputs": [],
   "source": [
    "alanIdlist = count_trip(alan['trip_id'])\n",
    "barbaraIdlist = count_trip(barbara['trip_id'])"
   ]
  },
  {
   "cell_type": "code",
   "execution_count": 13,
   "metadata": {
    "collapsed": true
   },
   "outputs": [],
   "source": [
    "#let's count the risky events in each trip and save them into a list\n",
    "def count_risk(df, tripIdlist):\n",
    "    riskAcc = []\n",
    "    for trip in tripIdlist:\n",
    "        riskCount = 0\n",
    "        for event in df[df['trip_id']==trip]['event']:\n",
    "            if event == 'Y':\n",
    "                riskCount += 1\n",
    "        riskAcc.append(riskCount)\n",
    "    return riskAcc"
   ]
  },
  {
   "cell_type": "code",
   "execution_count": 14,
   "metadata": {
    "collapsed": false
   },
   "outputs": [],
   "source": [
    "alanRiskacc = count_risk(alan, alanIdlist)\n",
    "barbaraRiskacc = count_risk(barbara, barbaraIdlist)"
   ]
  },
  {
   "cell_type": "code",
   "execution_count": 15,
   "metadata": {
    "collapsed": false
   },
   "outputs": [
    {
     "data": {
      "text/plain": [
       "[4, 4, 4, 2, 1, 7, 2, 4, 2, 2, 2, 2, 3, 1]"
      ]
     },
     "execution_count": 15,
     "metadata": {},
     "output_type": "execute_result"
    }
   ],
   "source": [
    "alanRiskacc"
   ]
  },
  {
   "cell_type": "code",
   "execution_count": 16,
   "metadata": {
    "collapsed": false
   },
   "outputs": [
    {
     "data": {
      "text/plain": [
       "[0, 2, 0, 3, 1, 0, 0, 1, 3, 0, 0, 0, 1, 0, 0, 1, 0, 0, 3, 0]"
      ]
     },
     "execution_count": 16,
     "metadata": {},
     "output_type": "execute_result"
    }
   ],
   "source": [
    "barbaraRiskacc\n"
   ]
  },
  {
   "cell_type": "code",
   "execution_count": 17,
   "metadata": {
    "collapsed": false
   },
   "outputs": [
    {
     "data": {
      "text/plain": [
       "2.8571428571428572"
      ]
     },
     "execution_count": 17,
     "metadata": {},
     "output_type": "execute_result"
    }
   ],
   "source": [
    "#Average risky events per trip for each driver\n",
    "alanAveragerisk = np.average(alanRiskacc)\n",
    "barbaraAveragerisk = np.average(barbaraRiskacc)\n",
    "alanAveragerisk"
   ]
  },
  {
   "cell_type": "code",
   "execution_count": 19,
   "metadata": {
    "collapsed": false
   },
   "outputs": [
    {
     "data": {
      "text/plain": [
       "0.75"
      ]
     },
     "execution_count": 19,
     "metadata": {},
     "output_type": "execute_result"
    }
   ],
   "source": [
    "barbaraAveragerisk "
   ]
  },
  {
   "cell_type": "code",
   "execution_count": 20,
   "metadata": {
    "collapsed": true
   },
   "outputs": [],
   "source": [
    "#we could also calculate the standard deviations of each drivers' risky events\n",
    "alanRiskstd = np.std(alanRiskacc)\n",
    "barbaraRiskstd = np.std(barbaraRiskacc)"
   ]
  },
  {
   "cell_type": "code",
   "execution_count": 21,
   "metadata": {
    "collapsed": false
   },
   "outputs": [
    {
     "data": {
      "text/plain": [
       "1.5518257844571735"
      ]
     },
     "execution_count": 21,
     "metadata": {},
     "output_type": "execute_result"
    }
   ],
   "source": [
    "alanRiskstd"
   ]
  },
  {
   "cell_type": "code",
   "execution_count": 22,
   "metadata": {
    "collapsed": false
   },
   "outputs": [
    {
     "data": {
      "text/plain": [
       "1.0897247358851685"
      ]
     },
     "execution_count": 22,
     "metadata": {},
     "output_type": "execute_result"
    }
   ],
   "source": [
    "barbaraRiskstd\n"
   ]
  },
  {
   "cell_type": "code",
   "execution_count": 26,
   "metadata": {
    "collapsed": false
   },
   "outputs": [
    {
     "name": "stdout",
     "output_type": "stream",
     "text": [
      "Ttest_indResult(statistic=4.2334359801489621, pvalue=0.00035372121373734042)\n"
     ]
    }
   ],
   "source": [
    "# we could also do a little bit statistic test to comparing Alan and Barbara's risky events. Here I use unpaired t-test.\n",
    "from scipy import stats\n",
    "print stats.ttest_ind(alanRiskacc, barbaraRiskacc, equal_var = False)"
   ]
  },
  {
   "cell_type": "markdown",
   "metadata": {},
   "source": [
    "# In average, Alan had two more risky events per trip comparing to Barbara. So Barbara is the safer driver."
   ]
  },
  {
   "cell_type": "markdown",
   "metadata": {},
   "source": [
    "\n",
    "# Question2: Between the trip 7, driven by Allen, and 13, driven by Barbara, who drove on the highway?\n"
   ]
  },
  {
   "cell_type": "markdown",
   "metadata": {},
   "source": [
    "According to wikipedia, the high way speed limits in US is around 60-70 mph, let use the average 65 mph as a standard. I will use box plot to check which trip is likely on highway."
   ]
  },
  {
   "cell_type": "code",
   "execution_count": 30,
   "metadata": {
    "collapsed": false
   },
   "outputs": [
    {
     "data": {
      "image/png": "[encoded data removed]",
      "text/plain": [
       "<matplotlib.figure.Figure at 0x10d82ec90>"
      ]
     },
     "metadata": {},
     "output_type": "display_data"
    },
    {
     "name": "stdout",
     "output_type": "stream",
     "text": [
      "\n"
     ]
    }
   ],
   "source": [
    "fig = plt.figure()\n",
    "speed_data_to_plot = []\n",
    "for i in range(1, 35):\n",
    "    speed_data_to_plot.append(data[data['trip_id']== i]['speed']) # Group the speed data by trip_id\n",
    "plt.boxplot(speed_data_to_plot)    \n",
    "plt.xlim(1,34)\n",
    "plt.ylim(0, 100)\n",
    "plt.xlabel('Trip')\n",
    "plt.ylabel('Speed(miles/hr)')\n",
    "plt.title('Box plot of speed at each trip')\n",
    "\n",
    "plt.plot([1,34], [65, 65], color = 'k', linestyle = '--', lw = 2)\n",
    "plt.text(12, 70, \n",
    "         'Highway speed limit: 65') # Add a highway speed limit\n",
    "plt.show()\n"
   ]
  },
  {
   "cell_type": "markdown",
   "metadata": {},
   "source": [
    "# By looking at the chart, trip 7 is more likely to be highway drive comparing to trip 13."
   ]
  },
  {
   "cell_type": "code",
   "execution_count": 32,
   "metadata": {
    "collapsed": false
   },
   "outputs": [
    {
     "name": "stdout",
     "output_type": "stream",
     "text": [
      "The average speed at trip 7 is  32.6136363636\n",
      "The max speed at trip 7 is 65.625\n",
      "The average speed at trip 13 is  11.3372093023\n",
      "The max speed at trip 13 is 31.25\n"
     ]
    }
   ],
   "source": [
    "# let's look at more details on trip 7 and trip 13\n",
    "print \"The average speed at trip 7 is \",  np.average(speed_data_to_plot[6])\n",
    "print 'The max speed at trip 7 is' ,  np.max(speed_data_to_plot[6])\n",
    "print \"The average speed at trip 13 is \",  np.average(speed_data_to_plot[12])\n",
    "print 'The max speed at trip 13 is' ,  np.max(speed_data_to_plot[12])"
   ]
  },
  {
   "cell_type": "markdown",
   "metadata": {},
   "source": [
    "Again, trip 7 is more like to be highway drive."
   ]
  },
  {
   "cell_type": "code",
   "execution_count": null,
   "metadata": {
    "collapsed": true
   },
   "outputs": [],
   "source": []
  }
 ],
 "metadata": {
  "kernelspec": {
   "display_name": "Python 2",
   "language": "python",
   "name": "python2"
  },
  "language_info": {
   "codemirror_mode": {
    "name": "ipython",
    "version": 2
   },
   "file_extension": ".py",
   "mimetype": "text/x-python",
   "name": "python",
   "nbconvert_exporter": "python",
   "pygments_lexer": "ipython2",
   "version": "2.7.11"
  }
 },
 "nbformat": 4,
 "nbformat_minor": 0
}
